{
 "cells": [
  {
   "cell_type": "markdown",
   "id": "c8c76671-c939-4bdd-aebd-582e5f3202e7",
   "metadata": {},
   "source": [
    "## 1.1 Objectif de l’atelier  \n",
    "L’objectif est de **construire, entraîner et comparer** un modèle MLP puis un CNN pour la classification d’images du dataset Fashion-MNIST.  \n",
    "On applique des techniques de régularisation pour éviter l’overfitting, puis on interprète les résultats à l’aide de méthodes d’**Explainable AI** comme Grad-CAM pour visualiser où le modèle \"regarde\".\n",
    "\n",
    "---\n",
    "\n",
    "## 1.2 Pourquoi choisir Fashion-MNIST ?  \n",
    "- Dataset remplaçant le classique MNIST, mais plus réaliste : images d’articles vestimentaires (T-shirts, chaussures, sacs, etc.).  \n",
    "- 70 000 images 28×28 pixels en niveaux de gris, réparties en 10 classes.  \n",
    "- Plus difficile que MNIST : accuracy CNN ≈ 90-95% vs ~99% sur MNIST.  \n",
    "- Parfait pour tester un CNN basique et introduire des techniques avancées (régularisation, explicabilité).  \n",
    "*Référence : [Zalando Research, 2017]*\n",
    "\n",
    "---\n",
    "\n",
    "## 1.3 Architectures MLP vs CNN\n",
    "\n",
    "### MLP (Multilayer Perceptron)  \n",
    "- Structure : entrée aplatie (28×28 → 784 features) → Dense → ReLU → Dense → Softmax.  \n",
    "- Problème : ignore la structure spatiale des images.  \n",
    "- Grand nombre de paramètres → coûteux à entraîner, moins performant pour l’image.\n",
    "\n",
    "### CNN (Convolutional Neural Network)  \n",
    "- Utilise des filtres convolutifs (kernels) glissant sur l’image, capturant motifs locaux (bords, textures…).  \n",
    "- Architecture typique :  \n",
    "  - Couche `Conv2D(filters, kernel_size, activation='relu')`  \n",
    "  - `MaxPooling2D(pool_size=(2,2))` pour réduire la dimension spatiale  \n",
    "  - Répétition de couches convolution + pooling  \n",
    "  - Flatten + Dense + Softmax en sortie  \n",
    "- Avantages :  \n",
    "  - Partage des poids → moins de paramètres, meilleur apprentissage.  \n",
    "  - Invariance aux translations (localisation des motifs).  \n",
    "  - Efficace pour l’image grâce à la hiérarchie des caractéristiques.  \n",
    "*Référence : [LeCun et al., 1998; Krizhevsky et al., 2012]*\n",
    "\n",
    "---\n",
    "\n",
    "## 1.4 Fonctions d’activation & Loss  \n",
    "- **ReLU (Rectified Linear Unit)** :  \n",
    "  \\[\n",
    "  f(x) = \\max(0, x)\n",
    "  \\]  \n",
    "  Simple, efficace, réduit le problème du gradient saturé des fonctions sigmoïdes/tanh.  \n",
    "- **Softmax** : transforme un vecteur de logits en probabilités sommant à 1, idéal pour multi-classes.  \n",
    "- **Fonction de loss** : `sparse_categorical_crossentropy` adaptée aux labels entiers.  \n",
    "- **Métrique principale** : précision (`accuracy`) sur train & validation.\n",
    "\n",
    "---\n",
    "\n",
    "## 1.5 Surapprentissage (Overfitting) & Régularisation\n",
    "\n",
    "### Qu’est-ce que l’overfitting ?  \n",
    "- Le modèle \"mémorise\" le train, perd en capacité de généralisation.  \n",
    "- Se manifeste par un écart croissant entre loss train et loss validation.\n",
    "\n",
    "### Techniques pour le prévenir :  \n",
    "- **Dropout** : déconnecte aléatoirement des neurones lors de l’entraînement (typ. 0.25–0.5).  \n",
    "- **EarlyStopping** : stoppe l’entraînement si `val_loss` ne diminue plus (patience=3).  \n",
    "- **Batch Normalization** : normalise activations en interne, accélère convergence.  \n",
    "- **Data Augmentation** : rotation, zoom, translation aléatoires pour simuler plus de données.  \n",
    "- **Régularisation L2 (weight decay)** : pénalise les poids importants.  \n",
    "*Référence : [Srivastava et al., 2014; Ioffe & Szegedy, 2015]*\n",
    "\n",
    "---\n",
    "\n",
    "## 1.6 Explainable AI : Grad-CAM & variantes\n",
    "\n",
    "### CAM (Class Activation Mapping)  \n",
    "- Besoin d’une architecture spéciale avec Global Average Pooling (GAP).  \n",
    "- Permet de visualiser quelles régions activent une classe.\n",
    "\n",
    "### Grad-CAM (Gradient-weighted CAM)  \n",
    "- Fonctionne avec tout CNN.  \n",
    "- Calcul :  \n",
    "  1. Gradient des logits par rapport aux feature maps d’une couche convolutive.  \n",
    "  2. Pondération par moyenne globale des gradients (coefficients \\(\\alpha_k\\)).  \n",
    "  3. Combinaison avec feature maps, passage par ReLU pour obtenir la heatmap.  \n",
    "- Donne une carte de zones \"importantes\" pour la classification.\n",
    "\n",
    "### Avantages & limites  \n",
    "- Simple, visuel, aide à comprendre et diagnostiquer les erreurs ou biais.  \n",
    "- Heatmaps parfois floues, pas toujours précises spatialement.  \n",
    "- Variantes améliorées : Guided Grad-CAM, Grad-CAM++, Score-CAM, Layer-CAM.  \n",
    "*Référence : [Selvaraju et al., 2017]*\n",
    "\n",
    "---\n",
    "\n",
    "## 1.7 Pipeline résumé (flow d’une séance 1h)\n",
    "\n",
    "| Étape             | But et détails                           |\n",
    "|-------------------|-----------------------------------------|\n",
    "| **MLP baseline**   | Benchmark simple, met en lumière limites|\n",
    "| **CNN simple**     | Architecture convolutive basique        |\n",
    "| **Régularisation** | Dropout, EarlyStopping, BatchNorm       |\n",
    "| **Data Augmentation** | Générer diversité & robustesse       |\n",
    "| **Évaluation**     | Accuracy, loss, matrice de confusion    |\n",
    "| **Explainability** | Heatmaps Grad-CAM pour interprétation   |\n",
    "\n",
    "---\n",
    "\n",
    "\n"
   ]
  },
  {
   "cell_type": "code",
   "execution_count": 20,
   "id": "6b49b2e6-a11e-4dd2-9318-a0f81fa3a496",
   "metadata": {},
   "outputs": [],
   "source": [
    "# import kagglehub\n",
    "\n",
    "# # Download latest version\n",
    "# path = kagglehub.dataset_download(\"zalando-research/fashionmnist\")\n",
    "\n",
    "# print(\"Path to dataset files:\", path)"
   ]
  },
  {
   "cell_type": "code",
   "execution_count": 22,
   "id": "9ed944ea-857d-4134-a957-ffbe0a5a55f0",
   "metadata": {},
   "outputs": [],
   "source": [
    "# import shutil\n",
    "# import os\n",
    "\n",
    "# # Dossier source téléchargé par kagglehub\n",
    "# source_dir = \"/home/tegongue/.cache/kagglehub/datasets/zalando-research/fashionmnist/versions/4\"\n",
    "\n",
    "# # Dossier de destination (à créer s'il n'existe pas)\n",
    "# destination_dir = \"fashionmnist\"  # dossier dans le répertoire courant de ton notebook\n",
    "\n",
    "# # Crée le dossier destination s’il n’existe pas\n",
    "# os.makedirs(destination_dir, exist_ok=True)\n",
    "\n",
    "# # Copier tous les fichiers du dossier source vers destination\n",
    "# for filename in os.listdir(source_dir):\n",
    "#     src_file = os.path.join(source_dir, filename)\n",
    "#     dst_file = os.path.join(destination_dir, filename)\n",
    "#     if os.path.isfile(src_file):\n",
    "#         shutil.copy(src_file, dst_file)\n",
    "\n",
    "# print(f\"✅ Dataset déplacé dans : {os.path.abspath(destination_dir)}\")\n"
   ]
  },
  {
   "cell_type": "markdown",
   "id": "651201c7-31bb-4329-b5c7-7f3268630ce7",
   "metadata": {},
   "source": [
    "# 🧾 Description du dataset : Fashion-MNIST\n",
    "\n",
    "##  Contexte\n",
    "\n",
    "**Fashion-MNIST** est un jeu de données d’images développé par **Zalando Research**, visant à **remplacer le dataset MNIST** classique (chiffres manuscrits) dans les benchmarks d’algorithmes de machine learning.\n",
    "\n",
    "##  Contenu du dataset\n",
    "\n",
    "- **Taille :**\n",
    "  - **60 000** exemples d'entraînement\n",
    "  - **10 000** exemples de test\n",
    "- **Format des images :** 28×28 pixels, en niveaux de gris\n",
    "- **Nombre total de pixels :** 784 (28×28)\n",
    "- **Valeurs des pixels :** entiers entre 0 (blanc) et 255 (noir)\n",
    "- **Structure des fichiers CSV :** 785 colonnes par ligne\n",
    "  - Colonne **0** : étiquette (classe de vêtement)\n",
    "  - Colonnes **1 à 784** : valeurs des pixels (de haut en bas, ligne par ligne)\n",
    "\n",
    "### Localisation d’un pixel\n",
    "Soit un pixel d’index `x`. Il correspond à la position `[i, j]` dans l’image 2D si :\n",
    "\n",
    "```python\n",
    "i = x // 28\n",
    "j = x % 28\n"
   ]
  },
  {
   "cell_type": "markdown",
   "id": "f8fa2f39-cf65-4c83-a4a7-bdb0b30a7251",
   "metadata": {},
   "source": [
    "## Étape 1 : Chargement des datasets"
   ]
  },
  {
   "cell_type": "code",
   "execution_count": 30,
   "id": "d74de1e4-7769-4b2d-9d64-5913db14473a",
   "metadata": {},
   "outputs": [],
   "source": [
    "import pandas as pd\n",
    "\n",
    "# Charger les fichiers\n",
    "train_df = pd.read_csv(\"fashionmnist/fashion-mnist_test.csv\")\n",
    "test_df = pd.read_csv(\"fashionmnist/fashion-mnist_train.csv\")\n"
   ]
  },
  {
   "cell_type": "code",
   "execution_count": 34,
   "id": "da7acc49-7c22-432c-b63d-7678a3e89e5d",
   "metadata": {},
   "outputs": [
    {
     "name": "stdout",
     "output_type": "stream",
     "text": [
      "      label  pixel1  pixel2  pixel3  pixel4  pixel5  pixel6  pixel7  pixel8  \\\n",
      "0         0       0       0       0       0       0       0       0       9   \n",
      "1         1       0       0       0       0       0       0       0       0   \n",
      "2         2       0       0       0       0       0       0      14      53   \n",
      "3         2       0       0       0       0       0       0       0       0   \n",
      "4         3       0       0       0       0       0       0       0       0   \n",
      "...     ...     ...     ...     ...     ...     ...     ...     ...     ...   \n",
      "9995      0       0       0       0       0       0       0       0       0   \n",
      "9996      6       0       0       0       0       0       0       0       0   \n",
      "9997      8       0       0       0       0       0       0       0       0   \n",
      "9998      8       0       1       3       0       0       0       0       0   \n",
      "9999      1       0       0       0       0       0       0       0     140   \n",
      "\n",
      "      pixel9  ...  pixel775  pixel776  pixel777  pixel778  pixel779  pixel780  \\\n",
      "0          8  ...       103        87        56         0         0         0   \n",
      "1          0  ...        34         0         0         0         0         0   \n",
      "2         99  ...         0         0         0         0        63        53   \n",
      "3          0  ...       137       126       140         0       133       224   \n",
      "4          0  ...         0         0         0         0         0         0   \n",
      "...      ...  ...       ...       ...       ...       ...       ...       ...   \n",
      "9995       0  ...        32        23        14        20         0         0   \n",
      "9996       0  ...         0         0         0         2        52        23   \n",
      "9997       0  ...       175       172       172       182       199       222   \n",
      "9998       0  ...         0         0         0         0         0         1   \n",
      "9999     119  ...       111        95        75        44         1         0   \n",
      "\n",
      "      pixel781  pixel782  pixel783  pixel784  \n",
      "0            0         0         0         0  \n",
      "1            0         0         0         0  \n",
      "2           31         0         0         0  \n",
      "3          222        56         0         0  \n",
      "4            0         0         0         0  \n",
      "...        ...       ...       ...       ...  \n",
      "9995         1         0         0         0  \n",
      "9996        28         0         0         0  \n",
      "9997        42         0         1         0  \n",
      "9998         0         0         0         0  \n",
      "9999         0         0         0         0  \n",
      "\n",
      "[10000 rows x 785 columns]\n",
      "       label  pixel1  pixel2  pixel3  pixel4  pixel5  pixel6  pixel7  pixel8  \\\n",
      "0          2       0       0       0       0       0       0       0       0   \n",
      "1          9       0       0       0       0       0       0       0       0   \n",
      "2          6       0       0       0       0       0       0       0       5   \n",
      "3          0       0       0       0       1       2       0       0       0   \n",
      "4          3       0       0       0       0       0       0       0       0   \n",
      "...      ...     ...     ...     ...     ...     ...     ...     ...     ...   \n",
      "59995      9       0       0       0       0       0       0       0       0   \n",
      "59996      1       0       0       0       0       0       0       0       0   \n",
      "59997      8       0       0       0       0       0       0       0       0   \n",
      "59998      8       0       0       0       0       0       0       0       0   \n",
      "59999      7       0       0       0       0       0       0       0       0   \n",
      "\n",
      "       pixel9  ...  pixel775  pixel776  pixel777  pixel778  pixel779  \\\n",
      "0           0  ...         0         0         0         0         0   \n",
      "1           0  ...         0         0         0         0         0   \n",
      "2           0  ...         0         0         0        30        43   \n",
      "3           0  ...         3         0         0         0         0   \n",
      "4           0  ...         0         0         0         0         0   \n",
      "...       ...  ...       ...       ...       ...       ...       ...   \n",
      "59995       0  ...         0         0         0         0         0   \n",
      "59996       0  ...        73         0         0         0         0   \n",
      "59997       0  ...       160       162       163       135        94   \n",
      "59998       0  ...         0         0         0         0         0   \n",
      "59999       0  ...         0         0         0         0         0   \n",
      "\n",
      "       pixel780  pixel781  pixel782  pixel783  pixel784  \n",
      "0             0         0         0         0         0  \n",
      "1             0         0         0         0         0  \n",
      "2             0         0         0         0         0  \n",
      "3             1         0         0         0         0  \n",
      "4             0         0         0         0         0  \n",
      "...         ...       ...       ...       ...       ...  \n",
      "59995         0         0         0         0         0  \n",
      "59996         0         0         0         0         0  \n",
      "59997         0         0         0         0         0  \n",
      "59998         0         0         0         0         0  \n",
      "59999         0         0         0         0         0  \n",
      "\n",
      "[60000 rows x 785 columns]\n"
     ]
    }
   ],
   "source": [
    "print(train_df)\n",
    "print(test_df)"
   ]
  },
  {
   "cell_type": "markdown",
   "id": "596b060a-47ff-4f88-8637-2e74b85c21f5",
   "metadata": {},
   "source": [
    "## Étape 2 : Vue d’ensemble"
   ]
  },
  {
   "cell_type": "code",
   "execution_count": 36,
   "id": "37a76e9a-4a7f-4dfd-94ac-f34c452728d0",
   "metadata": {},
   "outputs": [
    {
     "name": "stdout",
     "output_type": "stream",
     "text": [
      "Train shape: (10000, 785)\n",
      "Test shape: (60000, 785)\n"
     ]
    },
    {
     "data": {
      "text/html": [
       "<div>\n",
       "<style scoped>\n",
       "    .dataframe tbody tr th:only-of-type {\n",
       "        vertical-align: middle;\n",
       "    }\n",
       "\n",
       "    .dataframe tbody tr th {\n",
       "        vertical-align: top;\n",
       "    }\n",
       "\n",
       "    .dataframe thead th {\n",
       "        text-align: right;\n",
       "    }\n",
       "</style>\n",
       "<table border=\"1\" class=\"dataframe\">\n",
       "  <thead>\n",
       "    <tr style=\"text-align: right;\">\n",
       "      <th></th>\n",
       "      <th>label</th>\n",
       "      <th>pixel1</th>\n",
       "      <th>pixel2</th>\n",
       "      <th>pixel3</th>\n",
       "      <th>pixel4</th>\n",
       "      <th>pixel5</th>\n",
       "      <th>pixel6</th>\n",
       "      <th>pixel7</th>\n",
       "      <th>pixel8</th>\n",
       "      <th>pixel9</th>\n",
       "      <th>...</th>\n",
       "      <th>pixel775</th>\n",
       "      <th>pixel776</th>\n",
       "      <th>pixel777</th>\n",
       "      <th>pixel778</th>\n",
       "      <th>pixel779</th>\n",
       "      <th>pixel780</th>\n",
       "      <th>pixel781</th>\n",
       "      <th>pixel782</th>\n",
       "      <th>pixel783</th>\n",
       "      <th>pixel784</th>\n",
       "    </tr>\n",
       "  </thead>\n",
       "  <tbody>\n",
       "    <tr>\n",
       "      <th>0</th>\n",
       "      <td>0</td>\n",
       "      <td>0</td>\n",
       "      <td>0</td>\n",
       "      <td>0</td>\n",
       "      <td>0</td>\n",
       "      <td>0</td>\n",
       "      <td>0</td>\n",
       "      <td>0</td>\n",
       "      <td>9</td>\n",
       "      <td>8</td>\n",
       "      <td>...</td>\n",
       "      <td>103</td>\n",
       "      <td>87</td>\n",
       "      <td>56</td>\n",
       "      <td>0</td>\n",
       "      <td>0</td>\n",
       "      <td>0</td>\n",
       "      <td>0</td>\n",
       "      <td>0</td>\n",
       "      <td>0</td>\n",
       "      <td>0</td>\n",
       "    </tr>\n",
       "    <tr>\n",
       "      <th>1</th>\n",
       "      <td>1</td>\n",
       "      <td>0</td>\n",
       "      <td>0</td>\n",
       "      <td>0</td>\n",
       "      <td>0</td>\n",
       "      <td>0</td>\n",
       "      <td>0</td>\n",
       "      <td>0</td>\n",
       "      <td>0</td>\n",
       "      <td>0</td>\n",
       "      <td>...</td>\n",
       "      <td>34</td>\n",
       "      <td>0</td>\n",
       "      <td>0</td>\n",
       "      <td>0</td>\n",
       "      <td>0</td>\n",
       "      <td>0</td>\n",
       "      <td>0</td>\n",
       "      <td>0</td>\n",
       "      <td>0</td>\n",
       "      <td>0</td>\n",
       "    </tr>\n",
       "    <tr>\n",
       "      <th>2</th>\n",
       "      <td>2</td>\n",
       "      <td>0</td>\n",
       "      <td>0</td>\n",
       "      <td>0</td>\n",
       "      <td>0</td>\n",
       "      <td>0</td>\n",
       "      <td>0</td>\n",
       "      <td>14</td>\n",
       "      <td>53</td>\n",
       "      <td>99</td>\n",
       "      <td>...</td>\n",
       "      <td>0</td>\n",
       "      <td>0</td>\n",
       "      <td>0</td>\n",
       "      <td>0</td>\n",
       "      <td>63</td>\n",
       "      <td>53</td>\n",
       "      <td>31</td>\n",
       "      <td>0</td>\n",
       "      <td>0</td>\n",
       "      <td>0</td>\n",
       "    </tr>\n",
       "    <tr>\n",
       "      <th>3</th>\n",
       "      <td>2</td>\n",
       "      <td>0</td>\n",
       "      <td>0</td>\n",
       "      <td>0</td>\n",
       "      <td>0</td>\n",
       "      <td>0</td>\n",
       "      <td>0</td>\n",
       "      <td>0</td>\n",
       "      <td>0</td>\n",
       "      <td>0</td>\n",
       "      <td>...</td>\n",
       "      <td>137</td>\n",
       "      <td>126</td>\n",
       "      <td>140</td>\n",
       "      <td>0</td>\n",
       "      <td>133</td>\n",
       "      <td>224</td>\n",
       "      <td>222</td>\n",
       "      <td>56</td>\n",
       "      <td>0</td>\n",
       "      <td>0</td>\n",
       "    </tr>\n",
       "    <tr>\n",
       "      <th>4</th>\n",
       "      <td>3</td>\n",
       "      <td>0</td>\n",
       "      <td>0</td>\n",
       "      <td>0</td>\n",
       "      <td>0</td>\n",
       "      <td>0</td>\n",
       "      <td>0</td>\n",
       "      <td>0</td>\n",
       "      <td>0</td>\n",
       "      <td>0</td>\n",
       "      <td>...</td>\n",
       "      <td>0</td>\n",
       "      <td>0</td>\n",
       "      <td>0</td>\n",
       "      <td>0</td>\n",
       "      <td>0</td>\n",
       "      <td>0</td>\n",
       "      <td>0</td>\n",
       "      <td>0</td>\n",
       "      <td>0</td>\n",
       "      <td>0</td>\n",
       "    </tr>\n",
       "  </tbody>\n",
       "</table>\n",
       "<p>5 rows × 785 columns</p>\n",
       "</div>"
      ],
      "text/plain": [
       "   label  pixel1  pixel2  pixel3  pixel4  pixel5  pixel6  pixel7  pixel8  \\\n",
       "0      0       0       0       0       0       0       0       0       9   \n",
       "1      1       0       0       0       0       0       0       0       0   \n",
       "2      2       0       0       0       0       0       0      14      53   \n",
       "3      2       0       0       0       0       0       0       0       0   \n",
       "4      3       0       0       0       0       0       0       0       0   \n",
       "\n",
       "   pixel9  ...  pixel775  pixel776  pixel777  pixel778  pixel779  pixel780  \\\n",
       "0       8  ...       103        87        56         0         0         0   \n",
       "1       0  ...        34         0         0         0         0         0   \n",
       "2      99  ...         0         0         0         0        63        53   \n",
       "3       0  ...       137       126       140         0       133       224   \n",
       "4       0  ...         0         0         0         0         0         0   \n",
       "\n",
       "   pixel781  pixel782  pixel783  pixel784  \n",
       "0         0         0         0         0  \n",
       "1         0         0         0         0  \n",
       "2        31         0         0         0  \n",
       "3       222        56         0         0  \n",
       "4         0         0         0         0  \n",
       "\n",
       "[5 rows x 785 columns]"
      ]
     },
     "execution_count": 36,
     "metadata": {},
     "output_type": "execute_result"
    }
   ],
   "source": [
    "print(\"Train shape:\", train_df.shape)\n",
    "print(\"Test shape:\", test_df.shape)\n",
    "train_df.head()\n"
   ]
  },
  {
   "cell_type": "markdown",
   "id": "81bc9a8e-ea20-4219-a0e8-51f1e6b8fdcd",
   "metadata": {},
   "source": [
    "## Étape 3 : Vérification des valeurs manquantes\n",
    "\n"
   ]
  },
  {
   "cell_type": "code",
   "execution_count": 38,
   "id": "def81c32-7431-42ce-93a8-7733d1658cb7",
   "metadata": {},
   "outputs": [
    {
     "name": "stdout",
     "output_type": "stream",
     "text": [
      "Missing values in train set: 0\n",
      "Missing values in test set: 0\n"
     ]
    }
   ],
   "source": [
    "print(\"Missing values in train set:\", train_df.isnull().sum().sum())\n",
    "print(\"Missing values in test set:\", test_df.isnull().sum().sum())\n"
   ]
  },
  {
   "cell_type": "markdown",
   "id": "2a6899fb-3f03-468e-b139-e28c954ecc74",
   "metadata": {},
   "source": [
    "## Étape 4 : Statistiques sur les pixels"
   ]
  },
  {
   "cell_type": "code",
   "execution_count": 40,
   "id": "2124e913-1dea-471a-9dde-5cdc1dba739d",
   "metadata": {},
   "outputs": [
    {
     "data": {
      "text/html": [
       "<div>\n",
       "<style scoped>\n",
       "    .dataframe tbody tr th:only-of-type {\n",
       "        vertical-align: middle;\n",
       "    }\n",
       "\n",
       "    .dataframe tbody tr th {\n",
       "        vertical-align: top;\n",
       "    }\n",
       "\n",
       "    .dataframe thead th {\n",
       "        text-align: right;\n",
       "    }\n",
       "</style>\n",
       "<table border=\"1\" class=\"dataframe\">\n",
       "  <thead>\n",
       "    <tr style=\"text-align: right;\">\n",
       "      <th></th>\n",
       "      <th>count</th>\n",
       "      <th>mean</th>\n",
       "      <th>std</th>\n",
       "      <th>min</th>\n",
       "      <th>25%</th>\n",
       "      <th>50%</th>\n",
       "      <th>75%</th>\n",
       "      <th>max</th>\n",
       "    </tr>\n",
       "  </thead>\n",
       "  <tbody>\n",
       "    <tr>\n",
       "      <th>label</th>\n",
       "      <td>10000.0</td>\n",
       "      <td>4.5000</td>\n",
       "      <td>2.872425</td>\n",
       "      <td>0.0</td>\n",
       "      <td>2.0</td>\n",
       "      <td>4.5</td>\n",
       "      <td>7.0</td>\n",
       "      <td>9.0</td>\n",
       "    </tr>\n",
       "    <tr>\n",
       "      <th>pixel1</th>\n",
       "      <td>10000.0</td>\n",
       "      <td>0.0004</td>\n",
       "      <td>0.024493</td>\n",
       "      <td>0.0</td>\n",
       "      <td>0.0</td>\n",
       "      <td>0.0</td>\n",
       "      <td>0.0</td>\n",
       "      <td>2.0</td>\n",
       "    </tr>\n",
       "    <tr>\n",
       "      <th>pixel2</th>\n",
       "      <td>10000.0</td>\n",
       "      <td>0.0103</td>\n",
       "      <td>0.525187</td>\n",
       "      <td>0.0</td>\n",
       "      <td>0.0</td>\n",
       "      <td>0.0</td>\n",
       "      <td>0.0</td>\n",
       "      <td>45.0</td>\n",
       "    </tr>\n",
       "    <tr>\n",
       "      <th>pixel3</th>\n",
       "      <td>10000.0</td>\n",
       "      <td>0.0521</td>\n",
       "      <td>2.494315</td>\n",
       "      <td>0.0</td>\n",
       "      <td>0.0</td>\n",
       "      <td>0.0</td>\n",
       "      <td>0.0</td>\n",
       "      <td>218.0</td>\n",
       "    </tr>\n",
       "    <tr>\n",
       "      <th>pixel4</th>\n",
       "      <td>10000.0</td>\n",
       "      <td>0.0770</td>\n",
       "      <td>2.208882</td>\n",
       "      <td>0.0</td>\n",
       "      <td>0.0</td>\n",
       "      <td>0.0</td>\n",
       "      <td>0.0</td>\n",
       "      <td>185.0</td>\n",
       "    </tr>\n",
       "    <tr>\n",
       "      <th>pixel5</th>\n",
       "      <td>10000.0</td>\n",
       "      <td>0.2086</td>\n",
       "      <td>4.669183</td>\n",
       "      <td>0.0</td>\n",
       "      <td>0.0</td>\n",
       "      <td>0.0</td>\n",
       "      <td>0.0</td>\n",
       "      <td>227.0</td>\n",
       "    </tr>\n",
       "    <tr>\n",
       "      <th>pixel6</th>\n",
       "      <td>10000.0</td>\n",
       "      <td>0.3492</td>\n",
       "      <td>5.657849</td>\n",
       "      <td>0.0</td>\n",
       "      <td>0.0</td>\n",
       "      <td>0.0</td>\n",
       "      <td>0.0</td>\n",
       "      <td>223.0</td>\n",
       "    </tr>\n",
       "    <tr>\n",
       "      <th>pixel7</th>\n",
       "      <td>10000.0</td>\n",
       "      <td>0.8267</td>\n",
       "      <td>8.591731</td>\n",
       "      <td>0.0</td>\n",
       "      <td>0.0</td>\n",
       "      <td>0.0</td>\n",
       "      <td>0.0</td>\n",
       "      <td>247.0</td>\n",
       "    </tr>\n",
       "    <tr>\n",
       "      <th>pixel8</th>\n",
       "      <td>10000.0</td>\n",
       "      <td>2.3212</td>\n",
       "      <td>15.031508</td>\n",
       "      <td>0.0</td>\n",
       "      <td>0.0</td>\n",
       "      <td>0.0</td>\n",
       "      <td>0.0</td>\n",
       "      <td>218.0</td>\n",
       "    </tr>\n",
       "    <tr>\n",
       "      <th>pixel9</th>\n",
       "      <td>10000.0</td>\n",
       "      <td>5.4578</td>\n",
       "      <td>23.359019</td>\n",
       "      <td>0.0</td>\n",
       "      <td>0.0</td>\n",
       "      <td>0.0</td>\n",
       "      <td>0.0</td>\n",
       "      <td>244.0</td>\n",
       "    </tr>\n",
       "  </tbody>\n",
       "</table>\n",
       "</div>"
      ],
      "text/plain": [
       "          count    mean        std  min  25%  50%  75%    max\n",
       "label   10000.0  4.5000   2.872425  0.0  2.0  4.5  7.0    9.0\n",
       "pixel1  10000.0  0.0004   0.024493  0.0  0.0  0.0  0.0    2.0\n",
       "pixel2  10000.0  0.0103   0.525187  0.0  0.0  0.0  0.0   45.0\n",
       "pixel3  10000.0  0.0521   2.494315  0.0  0.0  0.0  0.0  218.0\n",
       "pixel4  10000.0  0.0770   2.208882  0.0  0.0  0.0  0.0  185.0\n",
       "pixel5  10000.0  0.2086   4.669183  0.0  0.0  0.0  0.0  227.0\n",
       "pixel6  10000.0  0.3492   5.657849  0.0  0.0  0.0  0.0  223.0\n",
       "pixel7  10000.0  0.8267   8.591731  0.0  0.0  0.0  0.0  247.0\n",
       "pixel8  10000.0  2.3212  15.031508  0.0  0.0  0.0  0.0  218.0\n",
       "pixel9  10000.0  5.4578  23.359019  0.0  0.0  0.0  0.0  244.0"
      ]
     },
     "execution_count": 40,
     "metadata": {},
     "output_type": "execute_result"
    }
   ],
   "source": [
    "train_df.describe().T.head(10)  # Statistiques pour les 10 premières colonnes\n"
   ]
  },
  {
   "cell_type": "markdown",
   "id": "68bff3d6-a0ce-46bb-812d-e176aad7aa1f",
   "metadata": {},
   "source": [
    "##  Étape 5 : Répartition des classes"
   ]
  },
  {
   "cell_type": "code",
   "execution_count": 105,
   "id": "d196fcd8-0c36-4e1a-9b1c-15952d8bc779",
   "metadata": {},
   "outputs": [
    {
     "data": {
      "image/png": "[encoded data removed]",
      "text/plain": [
       "<Figure size 800x500 with 1 Axes>"
      ]
     },
     "metadata": {},
     "output_type": "display_data"
    }
   ],
   "source": [
    "import matplotlib.pyplot as plt\n",
    "\n",
    "class_counts = train_df['label'].value_counts().sort_index()\n",
    "labels_map = {\n",
    "    0: \"T-shirt/top\", 1: \"Trouser\", 2: \"Pullover\", 3: \"Dress\", 4: \"Coat\",\n",
    "    5: \"Sandal\", 6: \"Shirt\", 7: \"Sneaker\", 8: \"Bag\", 9: \"Ankle boot\"\n",
    "}\n",
    "\n",
    "plt.figure(figsize=(8, 5))\n",
    "plt.bar(class_counts.index, class_counts.values)\n",
    "plt.xticks(class_counts.index, [labels_map[i] for i in class_counts.index], rotation=45)\n",
    "plt.title(\"Répartition des classes dans le jeu d'entraînement\")\n",
    "plt.xlabel(\"Classe\")\n",
    "plt.ylabel(\"Nombre d'images\")\n",
    "plt.tight_layout()\n",
    "plt.show()\n"
   ]
  },
  {
   "cell_type": "markdown",
   "id": "d5e03385-2d9f-4efb-bda3-d3371bcb3317",
   "metadata": {},
   "source": [
    "## Étape 6 : Affichage d’images"
   ]
  },
  {
   "cell_type": "code",
   "execution_count": 44,
   "id": "6cf34ca3-0580-4a82-9046-d10a83c934b0",
   "metadata": {},
   "outputs": [
    {
     "data": {
      "image/png": "[encoded data removed]",
      "text/plain": [
       "<Figure size 800x800 with 9 Axes>"
      ]
     },
     "metadata": {},
     "output_type": "display_data"
    }
   ],
   "source": [
    "import numpy as np\n",
    "\n",
    "# Exemple : afficher 9 images\n",
    "images = train_df.drop('label', axis=1).values\n",
    "labels = train_df['label'].values\n",
    "\n",
    "plt.figure(figsize=(8, 8))\n",
    "for i in range(9):\n",
    "    plt.subplot(3, 3, i+1)\n",
    "    plt.imshow(images[i].reshape(28, 28), cmap='gray')\n",
    "    plt.title(labels_map[labels[i]])\n",
    "    plt.axis('off')\n",
    "plt.tight_layout()\n",
    "plt.show()\n"
   ]
  },
  {
   "cell_type": "markdown",
   "id": "87ade985-2a6e-4d11-ae75-9f1b100d40fa",
   "metadata": {},
   "source": [
    "## Étape 7 : Préparation pour TensorFlow / Keras"
   ]
  },
  {
   "cell_type": "markdown",
   "id": "df8404bc-070e-439b-8c5e-2e02b2f9272b",
   "metadata": {},
   "source": [
    "### Normalisation des pixels entre 0 et 1"
   ]
  },
  {
   "cell_type": "code",
   "execution_count": 47,
   "id": "1500819c-6ef0-4715-9d60-599ab96e1599",
   "metadata": {},
   "outputs": [],
   "source": [
    "X_train = train_df.drop(\"label\", axis=1).values / 255.0\n",
    "y_train = train_df[\"label\"].values\n",
    "\n",
    "X_test = test_df.drop(\"label\", axis=1).values / 255.0\n",
    "y_test = test_df[\"label\"].values\n"
   ]
  },
  {
   "cell_type": "markdown",
   "id": "a5221032-adf4-4982-9074-a2636f826d4b",
   "metadata": {},
   "source": [
    "### Reshape en format image (28, 28, 1) pour CNN"
   ]
  },
  {
   "cell_type": "code",
   "execution_count": 50,
   "id": "e25ba00c-8034-4ccc-9e6e-2ddbbc2bb046",
   "metadata": {},
   "outputs": [],
   "source": [
    "X_train = X_train.reshape(-1, 28, 28, 1)\n",
    "X_test = X_test.reshape(-1, 28, 28, 1)\n"
   ]
  },
  {
   "cell_type": "markdown",
   "id": "0a99804f-73cd-4a81-b420-95ce29a8cb62",
   "metadata": {},
   "source": [
    "### One-hot encoding des labels (si softmax)"
   ]
  },
  {
   "cell_type": "code",
   "execution_count": 58,
   "id": "cacc641b-aed2-49d3-ba77-540cf98ec0bc",
   "metadata": {},
   "outputs": [],
   "source": [
    "from tensorflow.keras.utils import to_categorical\n",
    "\n",
    "y_train_cat = to_categorical(y_train, num_classes=10)\n",
    "y_test_cat = to_categorical(y_test, num_classes=10)\n"
   ]
  },
  {
   "cell_type": "code",
   "execution_count": 75,
   "id": "ce7985d9-1c8f-4185-b7c8-636ec1811a12",
   "metadata": {},
   "outputs": [],
   "source": [
    "# !pip install tensorflow\n"
   ]
  },
  {
   "cell_type": "markdown",
   "id": "9ad7f46d-9a03-41dc-8e4f-e8773ad26e4c",
   "metadata": {},
   "source": [
    "## Étape 8 : Split train/validation "
   ]
  },
  {
   "cell_type": "code",
   "execution_count": 79,
   "id": "f504ee76-1665-42fd-b7b2-18c9ab79f016",
   "metadata": {},
   "outputs": [],
   "source": [
    "from sklearn.model_selection import train_test_split\n",
    "\n",
    "X_train_part, X_val, y_train_part, y_val = train_test_split(\n",
    "    X_train, y_train_cat, test_size=0.2, random_state=42)\n"
   ]
  },
  {
   "cell_type": "markdown",
   "id": "e89cbc05-98c3-4017-83d3-fd54196cb170",
   "metadata": {},
   "source": [
    "## Étape 9 : Construction du modèle CNN\n"
   ]
  },
  {
   "cell_type": "code",
   "execution_count": 81,
   "id": "004549e3-c3fb-4586-990f-d97ad81f216b",
   "metadata": {},
   "outputs": [
    {
     "name": "stderr",
     "output_type": "stream",
     "text": [
      "/home/tegongue/anaconda3/lib/python3.12/site-packages/keras/src/layers/convolutional/base_conv.py:113: UserWarning: Do not pass an `input_shape`/`input_dim` argument to a layer. When using Sequential models, prefer using an `Input(shape)` object as the first layer in the model instead.\n",
      "  super().__init__(activity_regularizer=activity_regularizer, **kwargs)\n",
      "2025-07-23 20:42:58.445242: E external/local_xla/xla/stream_executor/cuda/cuda_platform.cc:51] failed call to cuInit: INTERNAL: CUDA error: Failed call to cuInit: UNKNOWN ERROR (303)\n"
     ]
    },
    {
     "data": {
      "text/html": [
       "<pre style=\"white-space:pre;overflow-x:auto;line-height:normal;font-family:Menlo,'DejaVu Sans Mono',consolas,'Courier New',monospace\"><span style=\"font-weight: bold\">Model: \"sequential\"</span>\n",
       "</pre>\n"
      ],
      "text/plain": [
       "\u001b[1mModel: \"sequential\"\u001b[0m\n"
      ]
     },
     "metadata": {},
     "output_type": "display_data"
    },
    {
     "data": {
      "text/html": [
       "<pre style=\"white-space:pre;overflow-x:auto;line-height:normal;font-family:Menlo,'DejaVu Sans Mono',consolas,'Courier New',monospace\">┏━━━━━━━━━━━━━━━━━━━━━━━━━━━━━━━━━┳━━━━━━━━━━━━━━━━━━━━━━━━┳━━━━━━━━━━━━━━━┓\n",
       "┃<span style=\"font-weight: bold\"> Layer (type)                    </span>┃<span style=\"font-weight: bold\"> Output Shape           </span>┃<span style=\"font-weight: bold\">       Param # </span>┃\n",
       "┡━━━━━━━━━━━━━━━━━━━━━━━━━━━━━━━━━╇━━━━━━━━━━━━━━━━━━━━━━━━╇━━━━━━━━━━━━━━━┩\n",
       "│ conv2d (<span style=\"color: #0087ff; text-decoration-color: #0087ff\">Conv2D</span>)                 │ (<span style=\"color: #00d7ff; text-decoration-color: #00d7ff\">None</span>, <span style=\"color: #00af00; text-decoration-color: #00af00\">26</span>, <span style=\"color: #00af00; text-decoration-color: #00af00\">26</span>, <span style=\"color: #00af00; text-decoration-color: #00af00\">32</span>)     │           <span style=\"color: #00af00; text-decoration-color: #00af00\">320</span> │\n",
       "├─────────────────────────────────┼────────────────────────┼───────────────┤\n",
       "│ max_pooling2d (<span style=\"color: #0087ff; text-decoration-color: #0087ff\">MaxPooling2D</span>)    │ (<span style=\"color: #00d7ff; text-decoration-color: #00d7ff\">None</span>, <span style=\"color: #00af00; text-decoration-color: #00af00\">13</span>, <span style=\"color: #00af00; text-decoration-color: #00af00\">13</span>, <span style=\"color: #00af00; text-decoration-color: #00af00\">32</span>)     │             <span style=\"color: #00af00; text-decoration-color: #00af00\">0</span> │\n",
       "├─────────────────────────────────┼────────────────────────┼───────────────┤\n",
       "│ conv2d_1 (<span style=\"color: #0087ff; text-decoration-color: #0087ff\">Conv2D</span>)               │ (<span style=\"color: #00d7ff; text-decoration-color: #00d7ff\">None</span>, <span style=\"color: #00af00; text-decoration-color: #00af00\">11</span>, <span style=\"color: #00af00; text-decoration-color: #00af00\">11</span>, <span style=\"color: #00af00; text-decoration-color: #00af00\">64</span>)     │        <span style=\"color: #00af00; text-decoration-color: #00af00\">18,496</span> │\n",
       "├─────────────────────────────────┼────────────────────────┼───────────────┤\n",
       "│ max_pooling2d_1 (<span style=\"color: #0087ff; text-decoration-color: #0087ff\">MaxPooling2D</span>)  │ (<span style=\"color: #00d7ff; text-decoration-color: #00d7ff\">None</span>, <span style=\"color: #00af00; text-decoration-color: #00af00\">5</span>, <span style=\"color: #00af00; text-decoration-color: #00af00\">5</span>, <span style=\"color: #00af00; text-decoration-color: #00af00\">64</span>)       │             <span style=\"color: #00af00; text-decoration-color: #00af00\">0</span> │\n",
       "├─────────────────────────────────┼────────────────────────┼───────────────┤\n",
       "│ flatten (<span style=\"color: #0087ff; text-decoration-color: #0087ff\">Flatten</span>)               │ (<span style=\"color: #00d7ff; text-decoration-color: #00d7ff\">None</span>, <span style=\"color: #00af00; text-decoration-color: #00af00\">1600</span>)           │             <span style=\"color: #00af00; text-decoration-color: #00af00\">0</span> │\n",
       "├─────────────────────────────────┼────────────────────────┼───────────────┤\n",
       "│ dense (<span style=\"color: #0087ff; text-decoration-color: #0087ff\">Dense</span>)                   │ (<span style=\"color: #00d7ff; text-decoration-color: #00d7ff\">None</span>, <span style=\"color: #00af00; text-decoration-color: #00af00\">128</span>)            │       <span style=\"color: #00af00; text-decoration-color: #00af00\">204,928</span> │\n",
       "├─────────────────────────────────┼────────────────────────┼───────────────┤\n",
       "│ dropout (<span style=\"color: #0087ff; text-decoration-color: #0087ff\">Dropout</span>)               │ (<span style=\"color: #00d7ff; text-decoration-color: #00d7ff\">None</span>, <span style=\"color: #00af00; text-decoration-color: #00af00\">128</span>)            │             <span style=\"color: #00af00; text-decoration-color: #00af00\">0</span> │\n",
       "├─────────────────────────────────┼────────────────────────┼───────────────┤\n",
       "│ dense_1 (<span style=\"color: #0087ff; text-decoration-color: #0087ff\">Dense</span>)                 │ (<span style=\"color: #00d7ff; text-decoration-color: #00d7ff\">None</span>, <span style=\"color: #00af00; text-decoration-color: #00af00\">10</span>)             │         <span style=\"color: #00af00; text-decoration-color: #00af00\">1,290</span> │\n",
       "└─────────────────────────────────┴────────────────────────┴───────────────┘\n",
       "</pre>\n"
      ],
      "text/plain": [
       "┏━━━━━━━━━━━━━━━━━━━━━━━━━━━━━━━━━┳━━━━━━━━━━━━━━━━━━━━━━━━┳━━━━━━━━━━━━━━━┓\n",
       "┃\u001b[1m \u001b[0m\u001b[1mLayer (type)                   \u001b[0m\u001b[1m \u001b[0m┃\u001b[1m \u001b[0m\u001b[1mOutput Shape          \u001b[0m\u001b[1m \u001b[0m┃\u001b[1m \u001b[0m\u001b[1m      Param #\u001b[0m\u001b[1m \u001b[0m┃\n",
       "┡━━━━━━━━━━━━━━━━━━━━━━━━━━━━━━━━━╇━━━━━━━━━━━━━━━━━━━━━━━━╇━━━━━━━━━━━━━━━┩\n",
       "│ conv2d (\u001b[38;5;33mConv2D\u001b[0m)                 │ (\u001b[38;5;45mNone\u001b[0m, \u001b[38;5;34m26\u001b[0m, \u001b[38;5;34m26\u001b[0m, \u001b[38;5;34m32\u001b[0m)     │           \u001b[38;5;34m320\u001b[0m │\n",
       "├─────────────────────────────────┼────────────────────────┼───────────────┤\n",
       "│ max_pooling2d (\u001b[38;5;33mMaxPooling2D\u001b[0m)    │ (\u001b[38;5;45mNone\u001b[0m, \u001b[38;5;34m13\u001b[0m, \u001b[38;5;34m13\u001b[0m, \u001b[38;5;34m32\u001b[0m)     │             \u001b[38;5;34m0\u001b[0m │\n",
       "├─────────────────────────────────┼────────────────────────┼───────────────┤\n",
       "│ conv2d_1 (\u001b[38;5;33mConv2D\u001b[0m)               │ (\u001b[38;5;45mNone\u001b[0m, \u001b[38;5;34m11\u001b[0m, \u001b[38;5;34m11\u001b[0m, \u001b[38;5;34m64\u001b[0m)     │        \u001b[38;5;34m18,496\u001b[0m │\n",
       "├─────────────────────────────────┼────────────────────────┼───────────────┤\n",
       "│ max_pooling2d_1 (\u001b[38;5;33mMaxPooling2D\u001b[0m)  │ (\u001b[38;5;45mNone\u001b[0m, \u001b[38;5;34m5\u001b[0m, \u001b[38;5;34m5\u001b[0m, \u001b[38;5;34m64\u001b[0m)       │             \u001b[38;5;34m0\u001b[0m │\n",
       "├─────────────────────────────────┼────────────────────────┼───────────────┤\n",
       "│ flatten (\u001b[38;5;33mFlatten\u001b[0m)               │ (\u001b[38;5;45mNone\u001b[0m, \u001b[38;5;34m1600\u001b[0m)           │             \u001b[38;5;34m0\u001b[0m │\n",
       "├─────────────────────────────────┼────────────────────────┼───────────────┤\n",
       "│ dense (\u001b[38;5;33mDense\u001b[0m)                   │ (\u001b[38;5;45mNone\u001b[0m, \u001b[38;5;34m128\u001b[0m)            │       \u001b[38;5;34m204,928\u001b[0m │\n",
       "├─────────────────────────────────┼────────────────────────┼───────────────┤\n",
       "│ dropout (\u001b[38;5;33mDropout\u001b[0m)               │ (\u001b[38;5;45mNone\u001b[0m, \u001b[38;5;34m128\u001b[0m)            │             \u001b[38;5;34m0\u001b[0m │\n",
       "├─────────────────────────────────┼────────────────────────┼───────────────┤\n",
       "│ dense_1 (\u001b[38;5;33mDense\u001b[0m)                 │ (\u001b[38;5;45mNone\u001b[0m, \u001b[38;5;34m10\u001b[0m)             │         \u001b[38;5;34m1,290\u001b[0m │\n",
       "└─────────────────────────────────┴────────────────────────┴───────────────┘\n"
      ]
     },
     "metadata": {},
     "output_type": "display_data"
    },
    {
     "data": {
      "text/html": [
       "<pre style=\"white-space:pre;overflow-x:auto;line-height:normal;font-family:Menlo,'DejaVu Sans Mono',consolas,'Courier New',monospace\"><span style=\"font-weight: bold\"> Total params: </span><span style=\"color: #00af00; text-decoration-color: #00af00\">225,034</span> (879.04 KB)\n",
       "</pre>\n"
      ],
      "text/plain": [
       "\u001b[1m Total params: \u001b[0m\u001b[38;5;34m225,034\u001b[0m (879.04 KB)\n"
      ]
     },
     "metadata": {},
     "output_type": "display_data"
    },
    {
     "data": {
      "text/html": [
       "<pre style=\"white-space:pre;overflow-x:auto;line-height:normal;font-family:Menlo,'DejaVu Sans Mono',consolas,'Courier New',monospace\"><span style=\"font-weight: bold\"> Trainable params: </span><span style=\"color: #00af00; text-decoration-color: #00af00\">225,034</span> (879.04 KB)\n",
       "</pre>\n"
      ],
      "text/plain": [
       "\u001b[1m Trainable params: \u001b[0m\u001b[38;5;34m225,034\u001b[0m (879.04 KB)\n"
      ]
     },
     "metadata": {},
     "output_type": "display_data"
    },
    {
     "data": {
      "text/html": [
       "<pre style=\"white-space:pre;overflow-x:auto;line-height:normal;font-family:Menlo,'DejaVu Sans Mono',consolas,'Courier New',monospace\"><span style=\"font-weight: bold\"> Non-trainable params: </span><span style=\"color: #00af00; text-decoration-color: #00af00\">0</span> (0.00 B)\n",
       "</pre>\n"
      ],
      "text/plain": [
       "\u001b[1m Non-trainable params: \u001b[0m\u001b[38;5;34m0\u001b[0m (0.00 B)\n"
      ]
     },
     "metadata": {},
     "output_type": "display_data"
    }
   ],
   "source": [
    "import tensorflow as tf\n",
    "from tensorflow.keras.models import Sequential\n",
    "from tensorflow.keras.layers import Conv2D, MaxPooling2D, Flatten, Dense, Dropout\n",
    "\n",
    "# Définition du modèle CNN\n",
    "model = Sequential([\n",
    "    Conv2D(32, (3, 3), activation='relu', input_shape=(28, 28, 1)),\n",
    "    MaxPooling2D(pool_size=(2, 2)),\n",
    "\n",
    "    Conv2D(64, (3, 3), activation='relu'),\n",
    "    MaxPooling2D(pool_size=(2, 2)),\n",
    "\n",
    "    Flatten(),\n",
    "\n",
    "    Dense(128, activation='relu'),\n",
    "    Dropout(0.5),\n",
    "\n",
    "    Dense(10, activation='softmax')  # 10 classes\n",
    "])\n",
    "\n",
    "# Compilation\n",
    "model.compile(\n",
    "    optimizer='adam',\n",
    "    loss='categorical_crossentropy',\n",
    "    metrics=['accuracy']\n",
    ")\n",
    "\n",
    "model.summary()\n"
   ]
  },
  {
   "cell_type": "markdown",
   "id": "d68340fe-689a-47f0-83d6-0149f71098d9",
   "metadata": {},
   "source": [
    "## Étape 10 : Entraînement du modèle"
   ]
  },
  {
   "cell_type": "code",
   "execution_count": 84,
   "id": "41d524c7-65c8-4ef8-ba7d-9d2c2783d8b4",
   "metadata": {},
   "outputs": [
    {
     "name": "stdout",
     "output_type": "stream",
     "text": [
      "Epoch 1/10\n",
      "\u001b[1m63/63\u001b[0m \u001b[32m━━━━━━━━━━━━━━━━━━━━\u001b[0m\u001b[37m\u001b[0m \u001b[1m4s\u001b[0m 41ms/step - accuracy: 0.4462 - loss: 1.6082 - val_accuracy: 0.7720 - val_loss: 0.6402\n",
      "Epoch 2/10\n",
      "\u001b[1m63/63\u001b[0m \u001b[32m━━━━━━━━━━━━━━━━━━━━\u001b[0m\u001b[37m\u001b[0m \u001b[1m3s\u001b[0m 41ms/step - accuracy: 0.7289 - loss: 0.7562 - val_accuracy: 0.7825 - val_loss: 0.5651\n",
      "Epoch 3/10\n",
      "\u001b[1m63/63\u001b[0m \u001b[32m━━━━━━━━━━━━━━━━━━━━\u001b[0m\u001b[37m\u001b[0m \u001b[1m2s\u001b[0m 37ms/step - accuracy: 0.7687 - loss: 0.6298 - val_accuracy: 0.8150 - val_loss: 0.4942\n",
      "Epoch 4/10\n",
      "\u001b[1m63/63\u001b[0m \u001b[32m━━━━━━━━━━━━━━━━━━━━\u001b[0m\u001b[37m\u001b[0m \u001b[1m2s\u001b[0m 37ms/step - accuracy: 0.8017 - loss: 0.5549 - val_accuracy: 0.8320 - val_loss: 0.4619\n",
      "Epoch 5/10\n",
      "\u001b[1m63/63\u001b[0m \u001b[32m━━━━━━━━━━━━━━━━━━━━\u001b[0m\u001b[37m\u001b[0m \u001b[1m3s\u001b[0m 42ms/step - accuracy: 0.8156 - loss: 0.4968 - val_accuracy: 0.8400 - val_loss: 0.4459\n",
      "Epoch 6/10\n",
      "\u001b[1m63/63\u001b[0m \u001b[32m━━━━━━━━━━━━━━━━━━━━\u001b[0m\u001b[37m\u001b[0m \u001b[1m2s\u001b[0m 35ms/step - accuracy: 0.8322 - loss: 0.4743 - val_accuracy: 0.8470 - val_loss: 0.4215\n",
      "Epoch 7/10\n",
      "\u001b[1m63/63\u001b[0m \u001b[32m━━━━━━━━━━━━━━━━━━━━\u001b[0m\u001b[37m\u001b[0m \u001b[1m2s\u001b[0m 34ms/step - accuracy: 0.8404 - loss: 0.4454 - val_accuracy: 0.8500 - val_loss: 0.4195\n",
      "Epoch 8/10\n",
      "\u001b[1m63/63\u001b[0m \u001b[32m━━━━━━━━━━━━━━━━━━━━\u001b[0m\u001b[37m\u001b[0m \u001b[1m2s\u001b[0m 39ms/step - accuracy: 0.8445 - loss: 0.4262 - val_accuracy: 0.8565 - val_loss: 0.4094\n",
      "Epoch 9/10\n",
      "\u001b[1m63/63\u001b[0m \u001b[32m━━━━━━━━━━━━━━━━━━━━\u001b[0m\u001b[37m\u001b[0m \u001b[1m3s\u001b[0m 45ms/step - accuracy: 0.8523 - loss: 0.4122 - val_accuracy: 0.8520 - val_loss: 0.4081\n",
      "Epoch 10/10\n",
      "\u001b[1m63/63\u001b[0m \u001b[32m━━━━━━━━━━━━━━━━━━━━\u001b[0m\u001b[37m\u001b[0m \u001b[1m2s\u001b[0m 38ms/step - accuracy: 0.8561 - loss: 0.3938 - val_accuracy: 0.8620 - val_loss: 0.3813\n"
     ]
    }
   ],
   "source": [
    "# Entraînement\n",
    "history = model.fit(\n",
    "    X_train_part, y_train_part,\n",
    "    epochs=10,\n",
    "    batch_size=128,\n",
    "    validation_data=(X_val, y_val)\n",
    ")\n"
   ]
  },
  {
   "cell_type": "markdown",
   "id": "5a2da853-bce4-42c1-9565-38ec38dfe888",
   "metadata": {},
   "source": [
    "## Étape 11 : Évaluation du modèle"
   ]
  },
  {
   "cell_type": "code",
   "execution_count": 87,
   "id": "bcbecaba-fbe2-4a1c-88c7-68419b4d2dfa",
   "metadata": {},
   "outputs": [
    {
     "name": "stdout",
     "output_type": "stream",
     "text": [
      "\u001b[1m  41/1875\u001b[0m \u001b[37m━━━━━━━━━━━━━━━━━━━━\u001b[0m \u001b[1m7s\u001b[0m 4ms/step - accuracy: 0.8471 - loss: 0.4145"
     ]
    },
    {
     "name": "stderr",
     "output_type": "stream",
     "text": [
      "2025-07-23 20:45:13.873439: W external/local_xla/xla/tsl/framework/cpu_allocator_impl.cc:83] Allocation of 188160000 exceeds 10% of free system memory.\n"
     ]
    },
    {
     "name": "stdout",
     "output_type": "stream",
     "text": [
      "\u001b[1m1875/1875\u001b[0m \u001b[32m━━━━━━━━━━━━━━━━━━━━\u001b[0m\u001b[37m\u001b[0m \u001b[1m7s\u001b[0m 4ms/step - accuracy: 0.8634 - loss: 0.3741\n",
      "✅ Accuracy sur le jeu de test : 86.33%\n"
     ]
    }
   ],
   "source": [
    "# Évaluation sur le jeu de test\n",
    "test_loss, test_acc = model.evaluate(X_test, y_test_cat)\n",
    "print(f\"✅ Accuracy sur le jeu de test : {test_acc * 100:.2f}%\")\n"
   ]
  },
  {
   "cell_type": "markdown",
   "id": "15fa8ab9-5f62-47dd-91a8-889d1888172d",
   "metadata": {},
   "source": [
    "## Étape 12 : Affichage des courbes d’apprentissage\n",
    "\n"
   ]
  },
  {
   "cell_type": "code",
   "execution_count": 90,
   "id": "79ca93f8-4d74-4c2d-add1-73b81adc11df",
   "metadata": {},
   "outputs": [
    {
     "data": {
      "image/png": "[encoded data removed]",
      "text/plain": [
       "<Figure size 640x480 with 1 Axes>"
      ]
     },
     "metadata": {},
     "output_type": "display_data"
    },
    {
     "data": {
      "image/png": "[encoded data removed]",
      "text/plain": [
       "<Figure size 640x480 with 1 Axes>"
      ]
     },
     "metadata": {},
     "output_type": "display_data"
    }
   ],
   "source": [
    "import matplotlib.pyplot as plt\n",
    "\n",
    "# Accuracy\n",
    "plt.plot(history.history['accuracy'], label='Train Accuracy')\n",
    "plt.plot(history.history['val_accuracy'], label='Validation Accuracy')\n",
    "plt.title(\"Évolution de l'Accuracy\")\n",
    "plt.xlabel('Epochs')\n",
    "plt.ylabel('Accuracy')\n",
    "plt.legend()\n",
    "plt.show()\n",
    "\n",
    "# Loss\n",
    "plt.plot(history.history['loss'], label='Train Loss')\n",
    "plt.plot(history.history['val_loss'], label='Validation Loss')\n",
    "plt.title(\"Évolution de la Loss\")\n",
    "plt.xlabel('Epochs')\n",
    "plt.ylabel('Loss')\n",
    "plt.legend()\n",
    "plt.show()\n"
   ]
  },
  {
   "cell_type": "markdown",
   "id": "3fd3b96c-5a20-45db-8fcb-7956fe4671c0",
   "metadata": {},
   "source": [
    "## Étape 13 : Matrice de confusion"
   ]
  },
  {
   "cell_type": "code",
   "execution_count": 100,
   "id": "88b8277d-58f0-447e-8fda-9abe064457ed",
   "metadata": {},
   "outputs": [
    {
     "data": {
      "image/png": "[encoded data removed]",
      "text/plain": [
       "<Figure size 640x480 with 1 Axes>"
      ]
     },
     "metadata": {},
     "output_type": "display_data"
    },
    {
     "data": {
      "image/png": "[encoded data removed]",
      "text/plain": [
       "<Figure size 640x480 with 1 Axes>"
      ]
     },
     "metadata": {},
     "output_type": "display_data"
    },
    {
     "data": {
      "image/png": "[encoded data removed]",
      "text/plain": [
       "<Figure size 640x480 with 1 Axes>"
      ]
     },
     "metadata": {},
     "output_type": "display_data"
    },
    {
     "data": {
      "image/png": "[encoded data removed]",
      "text/plain": [
       "<Figure size 640x480 with 1 Axes>"
      ]
     },
     "metadata": {},
     "output_type": "display_data"
    }
   ],
   "source": [
    "def show_prediction(index):\n",
    "    # Si les images ont 4 dimensions (batch, height, width, channel)\n",
    "    image = X_test[index].reshape(28, 28)\n",
    "    \n",
    "    # Si y_test est one-hot : true_label = np.argmax(y_test[index])\n",
    "    true_label = y_test[index]\n",
    "\n",
    "    prediction = model.predict(X_test[index:index+1], verbose=0)\n",
    "    pred_label = np.argmax(prediction)\n",
    "\n",
    "    plt.imshow(image, cmap='gray')\n",
    "    plt.title(f\"Vrai : {labels_map[true_label]} | Prédit : {labels_map[pred_label]}\")\n",
    "    plt.axis('off')\n",
    "    plt.show()\n",
    "\n",
    "# Afficher plusieurs exemples\n",
    "for i in [5, 25, 80, 99]:\n",
    "    show_prediction(i)\n"
   ]
  },
  {
   "cell_type": "markdown",
   "id": "77238959-8802-4665-aa30-bbbac3c53b13",
   "metadata": {},
   "source": [
    "## Étape 14 : Prédictions sur des images individuelles"
   ]
  },
  {
   "cell_type": "code",
   "execution_count": 102,
   "id": "64ed1382-6e4b-4ade-8a9c-3725e96ca656",
   "metadata": {},
   "outputs": [
    {
     "name": "stdout",
     "output_type": "stream",
     "text": [
      "\u001b[1m1/1\u001b[0m \u001b[32m━━━━━━━━━━━━━━━━━━━━\u001b[0m\u001b[37m\u001b[0m \u001b[1m0s\u001b[0m 36ms/step\n"
     ]
    },
    {
     "data": {
      "image/png": "[encoded data removed]",
      "text/plain": [
       "<Figure size 640x480 with 1 Axes>"
      ]
     },
     "metadata": {},
     "output_type": "display_data"
    }
   ],
   "source": [
    "def show_prediction(index):\n",
    "    image = X_test[index].reshape(28, 28)\n",
    "    true_label = y_test[index]\n",
    "    pred_label = np.argmax(model.predict(X_test[index:index+1]))\n",
    "\n",
    "    plt.imshow(image, cmap='gray')\n",
    "    plt.title(f\"Vrai : {labels_map[true_label]} | Prédit : {labels_map[pred_label]}\")\n",
    "    plt.axis('off')\n",
    "    plt.show()\n",
    "\n",
    "# Exemple :\n",
    "show_prediction(42)\n"
   ]
  },
  {
   "cell_type": "code",
   "execution_count": null,
   "id": "78c16691-6442-4e32-b36b-f6f7dc405a82",
   "metadata": {},
   "outputs": [],
   "source": []
  }
 ],
 "metadata": {
  "kernelspec": {
   "display_name": "Python 3 (ipykernel)",
   "language": "python",
   "name": "python3"
  },
  "language_info": {
   "codemirror_mode": {
    "name": "ipython",
    "version": 3
   },
   "file_extension": ".py",
   "mimetype": "text/x-python",
   "name": "python",
   "nbconvert_exporter": "python",
   "pygments_lexer": "ipython3",
   "version": "3.12.7"
  }
 },
 "nbformat": 4,
 "nbformat_minor": 5
}
